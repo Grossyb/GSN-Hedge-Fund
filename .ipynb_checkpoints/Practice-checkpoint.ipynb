{
 "cells": [
  {
   "cell_type": "code",
   "execution_count": 1,
   "id": "1cfbc741",
   "metadata": {},
   "outputs": [],
   "source": [
    "# these packages come with the Python programming language\n",
    "import datetime\n",
    "import numpy as np\n",
    "import pandas as pd\n",
    "import matplotlib.pyplot as plt\n",
    "\n",
    "% matplotlib inline"
   ]
  },
  {
   "cell_type": "code",
   "execution_count": 2,
   "id": "a21810cb",
   "metadata": {},
   "outputs": [],
   "source": [
    "# df = DataFrame, a data structure in pandas that you can think of as an Excel sheet\n",
    "# use the read_csv function from pandas to automatically transform a file into a DataFrame\n",
    "df = pd.read_csv('spy_daily_data.csv')"
   ]
  },
  {
   "cell_type": "code",
   "execution_count": 3,
   "id": "97fcada2",
   "metadata": {},
   "outputs": [
    {
     "data": {
      "text/html": [
       "<div>\n",
       "<style scoped>\n",
       "    .dataframe tbody tr th:only-of-type {\n",
       "        vertical-align: middle;\n",
       "    }\n",
       "\n",
       "    .dataframe tbody tr th {\n",
       "        vertical-align: top;\n",
       "    }\n",
       "\n",
       "    .dataframe thead th {\n",
       "        text-align: right;\n",
       "    }\n",
       "</style>\n",
       "<table border=\"1\" class=\"dataframe\">\n",
       "  <thead>\n",
       "    <tr style=\"text-align: right;\">\n",
       "      <th></th>\n",
       "      <th>Date</th>\n",
       "      <th>Symbol</th>\n",
       "      <th>Open</th>\n",
       "      <th>High</th>\n",
       "      <th>Low</th>\n",
       "      <th>Close</th>\n",
       "      <th>Adj_Close</th>\n",
       "      <th>Volume</th>\n",
       "      <th>Dividend_Amount</th>\n",
       "      <th>Split_Coefficient</th>\n",
       "    </tr>\n",
       "  </thead>\n",
       "  <tbody>\n",
       "    <tr>\n",
       "      <th>0</th>\n",
       "      <td>1999-11-01 00:00:00+00:00</td>\n",
       "      <td>SPY</td>\n",
       "      <td>136.500000</td>\n",
       "      <td>137.000000</td>\n",
       "      <td>135.562500</td>\n",
       "      <td>135.562500</td>\n",
       "      <td>90.610544</td>\n",
       "      <td>4006500</td>\n",
       "      <td>0.0</td>\n",
       "      <td>1.0</td>\n",
       "    </tr>\n",
       "    <tr>\n",
       "      <th>1</th>\n",
       "      <td>1999-11-02 00:00:00+00:00</td>\n",
       "      <td>SPY</td>\n",
       "      <td>135.968704</td>\n",
       "      <td>137.250000</td>\n",
       "      <td>134.593704</td>\n",
       "      <td>134.593704</td>\n",
       "      <td>89.962997</td>\n",
       "      <td>6516900</td>\n",
       "      <td>0.0</td>\n",
       "      <td>1.0</td>\n",
       "    </tr>\n",
       "    <tr>\n",
       "      <th>2</th>\n",
       "      <td>1999-11-03 00:00:00+00:00</td>\n",
       "      <td>SPY</td>\n",
       "      <td>136.000000</td>\n",
       "      <td>136.375000</td>\n",
       "      <td>135.125000</td>\n",
       "      <td>135.500000</td>\n",
       "      <td>90.568769</td>\n",
       "      <td>7222300</td>\n",
       "      <td>0.0</td>\n",
       "      <td>1.0</td>\n",
       "    </tr>\n",
       "    <tr>\n",
       "      <th>3</th>\n",
       "      <td>1999-11-04 00:00:00+00:00</td>\n",
       "      <td>SPY</td>\n",
       "      <td>136.750000</td>\n",
       "      <td>137.359299</td>\n",
       "      <td>135.765594</td>\n",
       "      <td>136.531204</td>\n",
       "      <td>91.258030</td>\n",
       "      <td>7907500</td>\n",
       "      <td>0.0</td>\n",
       "      <td>1.0</td>\n",
       "    </tr>\n",
       "    <tr>\n",
       "      <th>4</th>\n",
       "      <td>1999-11-05 00:00:00+00:00</td>\n",
       "      <td>SPY</td>\n",
       "      <td>138.625000</td>\n",
       "      <td>139.109299</td>\n",
       "      <td>136.781204</td>\n",
       "      <td>137.875000</td>\n",
       "      <td>92.156229</td>\n",
       "      <td>7431500</td>\n",
       "      <td>0.0</td>\n",
       "      <td>1.0</td>\n",
       "    </tr>\n",
       "  </tbody>\n",
       "</table>\n",
       "</div>"
      ],
      "text/plain": [
       "                        Date Symbol        Open        High         Low  \\\n",
       "0  1999-11-01 00:00:00+00:00    SPY  136.500000  137.000000  135.562500   \n",
       "1  1999-11-02 00:00:00+00:00    SPY  135.968704  137.250000  134.593704   \n",
       "2  1999-11-03 00:00:00+00:00    SPY  136.000000  136.375000  135.125000   \n",
       "3  1999-11-04 00:00:00+00:00    SPY  136.750000  137.359299  135.765594   \n",
       "4  1999-11-05 00:00:00+00:00    SPY  138.625000  139.109299  136.781204   \n",
       "\n",
       "        Close  Adj_Close   Volume  Dividend_Amount  Split_Coefficient  \n",
       "0  135.562500  90.610544  4006500              0.0                1.0  \n",
       "1  134.593704  89.962997  6516900              0.0                1.0  \n",
       "2  135.500000  90.568769  7222300              0.0                1.0  \n",
       "3  136.531204  91.258030  7907500              0.0                1.0  \n",
       "4  137.875000  92.156229  7431500              0.0                1.0  "
      ]
     },
     "execution_count": 3,
     "metadata": {},
     "output_type": "execute_result"
    }
   ],
   "source": [
    "# view the first few rows of your DataFrame\n",
    "df.head()"
   ]
  },
  {
   "cell_type": "code",
   "execution_count": 4,
   "id": "e484cb10",
   "metadata": {
    "scrolled": true
   },
   "outputs": [
    {
     "data": {
      "text/html": [
       "<div>\n",
       "<style scoped>\n",
       "    .dataframe tbody tr th:only-of-type {\n",
       "        vertical-align: middle;\n",
       "    }\n",
       "\n",
       "    .dataframe tbody tr th {\n",
       "        vertical-align: top;\n",
       "    }\n",
       "\n",
       "    .dataframe thead th {\n",
       "        text-align: right;\n",
       "    }\n",
       "</style>\n",
       "<table border=\"1\" class=\"dataframe\">\n",
       "  <thead>\n",
       "    <tr style=\"text-align: right;\">\n",
       "      <th></th>\n",
       "      <th>Date</th>\n",
       "      <th>Symbol</th>\n",
       "      <th>Open</th>\n",
       "      <th>High</th>\n",
       "      <th>Low</th>\n",
       "      <th>Close</th>\n",
       "      <th>Adj_Close</th>\n",
       "      <th>Volume</th>\n",
       "      <th>Dividend_Amount</th>\n",
       "      <th>Split_Coefficient</th>\n",
       "    </tr>\n",
       "  </thead>\n",
       "  <tbody>\n",
       "    <tr>\n",
       "      <th>5552</th>\n",
       "      <td>2021-11-23 00:00:00+00:00</td>\n",
       "      <td>SPY</td>\n",
       "      <td>467.22</td>\n",
       "      <td>469.095</td>\n",
       "      <td>464.45</td>\n",
       "      <td>468.19</td>\n",
       "      <td>468.19</td>\n",
       "      <td>73206538</td>\n",
       "      <td>0.0</td>\n",
       "      <td>1.0</td>\n",
       "    </tr>\n",
       "    <tr>\n",
       "      <th>5553</th>\n",
       "      <td>2021-11-24 00:00:00+00:00</td>\n",
       "      <td>SPY</td>\n",
       "      <td>466.06</td>\n",
       "      <td>469.570</td>\n",
       "      <td>465.19</td>\n",
       "      <td>469.44</td>\n",
       "      <td>469.44</td>\n",
       "      <td>60722931</td>\n",
       "      <td>0.0</td>\n",
       "      <td>1.0</td>\n",
       "    </tr>\n",
       "    <tr>\n",
       "      <th>5554</th>\n",
       "      <td>2021-11-26 00:00:00+00:00</td>\n",
       "      <td>SPY</td>\n",
       "      <td>462.34</td>\n",
       "      <td>463.900</td>\n",
       "      <td>457.77</td>\n",
       "      <td>458.97</td>\n",
       "      <td>458.97</td>\n",
       "      <td>112669636</td>\n",
       "      <td>0.0</td>\n",
       "      <td>1.0</td>\n",
       "    </tr>\n",
       "    <tr>\n",
       "      <th>5555</th>\n",
       "      <td>2021-11-29 00:00:00+00:00</td>\n",
       "      <td>SPY</td>\n",
       "      <td>464.07</td>\n",
       "      <td>466.560</td>\n",
       "      <td>461.73</td>\n",
       "      <td>464.60</td>\n",
       "      <td>464.60</td>\n",
       "      <td>86268818</td>\n",
       "      <td>0.0</td>\n",
       "      <td>1.0</td>\n",
       "    </tr>\n",
       "    <tr>\n",
       "      <th>5556</th>\n",
       "      <td>2021-11-30 00:00:00+00:00</td>\n",
       "      <td>SPY</td>\n",
       "      <td>462.00</td>\n",
       "      <td>464.030</td>\n",
       "      <td>455.30</td>\n",
       "      <td>455.56</td>\n",
       "      <td>455.56</td>\n",
       "      <td>148559598</td>\n",
       "      <td>0.0</td>\n",
       "      <td>1.0</td>\n",
       "    </tr>\n",
       "  </tbody>\n",
       "</table>\n",
       "</div>"
      ],
      "text/plain": [
       "                           Date Symbol    Open     High     Low   Close  \\\n",
       "5552  2021-11-23 00:00:00+00:00    SPY  467.22  469.095  464.45  468.19   \n",
       "5553  2021-11-24 00:00:00+00:00    SPY  466.06  469.570  465.19  469.44   \n",
       "5554  2021-11-26 00:00:00+00:00    SPY  462.34  463.900  457.77  458.97   \n",
       "5555  2021-11-29 00:00:00+00:00    SPY  464.07  466.560  461.73  464.60   \n",
       "5556  2021-11-30 00:00:00+00:00    SPY  462.00  464.030  455.30  455.56   \n",
       "\n",
       "      Adj_Close     Volume  Dividend_Amount  Split_Coefficient  \n",
       "5552     468.19   73206538              0.0                1.0  \n",
       "5553     469.44   60722931              0.0                1.0  \n",
       "5554     458.97  112669636              0.0                1.0  \n",
       "5555     464.60   86268818              0.0                1.0  \n",
       "5556     455.56  148559598              0.0                1.0  "
      ]
     },
     "execution_count": 4,
     "metadata": {},
     "output_type": "execute_result"
    }
   ],
   "source": [
    "# view the last few rows of your DataFrame\n",
    "df.tail()"
   ]
  },
  {
   "cell_type": "code",
   "execution_count": 5,
   "id": "a51dc3af",
   "metadata": {},
   "outputs": [
    {
     "data": {
      "text/plain": [
       "5557"
      ]
     },
     "execution_count": 5,
     "metadata": {},
     "output_type": "execute_result"
    }
   ],
   "source": [
    "# number of rows (records)\n",
    "len(df)"
   ]
  },
  {
   "cell_type": "code",
   "execution_count": 6,
   "id": "72c3fcc7",
   "metadata": {
    "scrolled": false
   },
   "outputs": [
    {
     "name": "stdout",
     "output_type": "stream",
     "text": [
      "<class 'pandas.core.frame.DataFrame'>\n",
      "RangeIndex: 5557 entries, 0 to 5556\n",
      "Data columns (total 10 columns):\n",
      "Date                 5557 non-null object\n",
      "Symbol               5557 non-null object\n",
      "Open                 5557 non-null float64\n",
      "High                 5557 non-null float64\n",
      "Low                  5557 non-null float64\n",
      "Close                5557 non-null float64\n",
      "Adj_Close            5557 non-null float64\n",
      "Volume               5557 non-null int64\n",
      "Dividend_Amount      5557 non-null float64\n",
      "Split_Coefficient    5557 non-null float64\n",
      "dtypes: float64(7), int64(1), object(2)\n",
      "memory usage: 434.3+ KB\n"
     ]
    }
   ],
   "source": [
    "# python related info for each column\n",
    "df.info()"
   ]
  },
  {
   "cell_type": "code",
   "execution_count": 7,
   "id": "d7761983",
   "metadata": {},
   "outputs": [
    {
     "data": {
      "text/html": [
       "<div>\n",
       "<style scoped>\n",
       "    .dataframe tbody tr th:only-of-type {\n",
       "        vertical-align: middle;\n",
       "    }\n",
       "\n",
       "    .dataframe tbody tr th {\n",
       "        vertical-align: top;\n",
       "    }\n",
       "\n",
       "    .dataframe thead th {\n",
       "        text-align: right;\n",
       "    }\n",
       "</style>\n",
       "<table border=\"1\" class=\"dataframe\">\n",
       "  <thead>\n",
       "    <tr style=\"text-align: right;\">\n",
       "      <th></th>\n",
       "      <th>Open</th>\n",
       "      <th>High</th>\n",
       "      <th>Low</th>\n",
       "      <th>Close</th>\n",
       "      <th>Adj_Close</th>\n",
       "      <th>Volume</th>\n",
       "      <th>Dividend_Amount</th>\n",
       "      <th>Split_Coefficient</th>\n",
       "    </tr>\n",
       "  </thead>\n",
       "  <tbody>\n",
       "    <tr>\n",
       "      <th>count</th>\n",
       "      <td>5557.000000</td>\n",
       "      <td>5557.000000</td>\n",
       "      <td>5557.000000</td>\n",
       "      <td>5557.000000</td>\n",
       "      <td>5557.000000</td>\n",
       "      <td>5.557000e+03</td>\n",
       "      <td>5557.000000</td>\n",
       "      <td>5557.0</td>\n",
       "    </tr>\n",
       "    <tr>\n",
       "      <th>mean</th>\n",
       "      <td>175.898688</td>\n",
       "      <td>176.914171</td>\n",
       "      <td>174.780170</td>\n",
       "      <td>175.903063</td>\n",
       "      <td>151.272979</td>\n",
       "      <td>1.090899e+08</td>\n",
       "      <td>0.012591</td>\n",
       "      <td>1.0</td>\n",
       "    </tr>\n",
       "    <tr>\n",
       "      <th>std</th>\n",
       "      <td>83.381088</td>\n",
       "      <td>83.661340</td>\n",
       "      <td>83.063356</td>\n",
       "      <td>83.401721</td>\n",
       "      <td>91.803677</td>\n",
       "      <td>9.587248e+07</td>\n",
       "      <td>0.108937</td>\n",
       "      <td>0.0</td>\n",
       "    </tr>\n",
       "    <tr>\n",
       "      <th>min</th>\n",
       "      <td>67.949997</td>\n",
       "      <td>70.000000</td>\n",
       "      <td>67.099998</td>\n",
       "      <td>68.110001</td>\n",
       "      <td>53.116948</td>\n",
       "      <td>1.708170e+05</td>\n",
       "      <td>0.000000</td>\n",
       "      <td>1.0</td>\n",
       "    </tr>\n",
       "    <tr>\n",
       "      <th>25%</th>\n",
       "      <td>117.790001</td>\n",
       "      <td>118.510000</td>\n",
       "      <td>116.879997</td>\n",
       "      <td>117.620003</td>\n",
       "      <td>87.033181</td>\n",
       "      <td>4.838990e+07</td>\n",
       "      <td>0.000000</td>\n",
       "      <td>1.0</td>\n",
       "    </tr>\n",
       "    <tr>\n",
       "      <th>50%</th>\n",
       "      <td>140.968704</td>\n",
       "      <td>141.860001</td>\n",
       "      <td>140.093704</td>\n",
       "      <td>140.990005</td>\n",
       "      <td>107.521326</td>\n",
       "      <td>7.977326e+07</td>\n",
       "      <td>0.000000</td>\n",
       "      <td>1.0</td>\n",
       "    </tr>\n",
       "    <tr>\n",
       "      <th>75%</th>\n",
       "      <td>211.260000</td>\n",
       "      <td>212.020000</td>\n",
       "      <td>210.509995</td>\n",
       "      <td>211.240000</td>\n",
       "      <td>189.337893</td>\n",
       "      <td>1.445148e+08</td>\n",
       "      <td>0.000000</td>\n",
       "      <td>1.0</td>\n",
       "    </tr>\n",
       "    <tr>\n",
       "      <th>max</th>\n",
       "      <td>470.890000</td>\n",
       "      <td>473.540000</td>\n",
       "      <td>468.500000</td>\n",
       "      <td>469.730000</td>\n",
       "      <td>469.730000</td>\n",
       "      <td>8.710263e+08</td>\n",
       "      <td>1.580000</td>\n",
       "      <td>1.0</td>\n",
       "    </tr>\n",
       "  </tbody>\n",
       "</table>\n",
       "</div>"
      ],
      "text/plain": [
       "              Open         High          Low        Close    Adj_Close  \\\n",
       "count  5557.000000  5557.000000  5557.000000  5557.000000  5557.000000   \n",
       "mean    175.898688   176.914171   174.780170   175.903063   151.272979   \n",
       "std      83.381088    83.661340    83.063356    83.401721    91.803677   \n",
       "min      67.949997    70.000000    67.099998    68.110001    53.116948   \n",
       "25%     117.790001   118.510000   116.879997   117.620003    87.033181   \n",
       "50%     140.968704   141.860001   140.093704   140.990005   107.521326   \n",
       "75%     211.260000   212.020000   210.509995   211.240000   189.337893   \n",
       "max     470.890000   473.540000   468.500000   469.730000   469.730000   \n",
       "\n",
       "             Volume  Dividend_Amount  Split_Coefficient  \n",
       "count  5.557000e+03      5557.000000             5557.0  \n",
       "mean   1.090899e+08         0.012591                1.0  \n",
       "std    9.587248e+07         0.108937                0.0  \n",
       "min    1.708170e+05         0.000000                1.0  \n",
       "25%    4.838990e+07         0.000000                1.0  \n",
       "50%    7.977326e+07         0.000000                1.0  \n",
       "75%    1.445148e+08         0.000000                1.0  \n",
       "max    8.710263e+08         1.580000                1.0  "
      ]
     },
     "execution_count": 7,
     "metadata": {},
     "output_type": "execute_result"
    }
   ],
   "source": [
    "# stats for each column\n",
    "df.describe()"
   ]
  },
  {
   "cell_type": "code",
   "execution_count": 8,
   "id": "60665844",
   "metadata": {},
   "outputs": [
    {
     "data": {
      "text/plain": [
       "<matplotlib.axes._subplots.AxesSubplot at 0x7fcc9004d240>"
      ]
     },
     "execution_count": 8,
     "metadata": {},
     "output_type": "execute_result"
    },
    {
     "data": {
      "image/png": "[encoded data removed]",
      "text/plain": [
       "<Figure size 432x288 with 1 Axes>"
      ]
     },
     "metadata": {
      "needs_background": "light"
     },
     "output_type": "display_data"
    }
   ],
   "source": [
    "df.plot(x='Date', y='Adj_Close')"
   ]
  },
  {
   "cell_type": "code",
   "execution_count": 9,
   "id": "02fcf186",
   "metadata": {
    "scrolled": false
   },
   "outputs": [
    {
     "data": {
      "text/plain": [
       "int"
      ]
     },
     "execution_count": 9,
     "metadata": {},
     "output_type": "execute_result"
    }
   ],
   "source": [
    "# use the type function to see the type of a variable in python\n",
    "type(20)"
   ]
  },
  {
   "cell_type": "code",
   "execution_count": 10,
   "id": "924194ab",
   "metadata": {},
   "outputs": [
    {
     "data": {
      "text/plain": [
       "str"
      ]
     },
     "execution_count": 10,
     "metadata": {},
     "output_type": "execute_result"
    }
   ],
   "source": [
    "type('Brandon')"
   ]
  },
  {
   "cell_type": "code",
   "execution_count": 11,
   "id": "450901ac",
   "metadata": {},
   "outputs": [
    {
     "data": {
      "text/plain": [
       "str"
      ]
     },
     "execution_count": 11,
     "metadata": {},
     "output_type": "execute_result"
    }
   ],
   "source": [
    "# use the iloc function in pandas to access specific rows in a DataFrame\n",
    "type(df.iloc[0]['Date'])"
   ]
  },
  {
   "cell_type": "code",
   "execution_count": 12,
   "id": "3469fef5",
   "metadata": {},
   "outputs": [
    {
     "name": "stdout",
     "output_type": "stream",
     "text": [
      "FIRST DATE: 1999-11-01 00:00:00+00:00\n"
     ]
    },
    {
     "data": {
      "text/plain": [
       "['1999-11-01', '00:00:00+00:00']"
      ]
     },
     "execution_count": 12,
     "metadata": {},
     "output_type": "execute_result"
    }
   ],
   "source": [
    "first_date = df['Date'].iloc[0]\n",
    "print('FIRST DATE: {}'.format(first_date))\n",
    "\n",
    "# the split function splits a string into an array of substrings \n",
    "first_date.split(' ')"
   ]
  },
  {
   "cell_type": "code",
   "execution_count": 13,
   "id": "fd0f542d",
   "metadata": {},
   "outputs": [
    {
     "data": {
      "text/plain": [
       "'1999-11-01'"
      ]
     },
     "execution_count": 13,
     "metadata": {},
     "output_type": "execute_result"
    }
   ],
   "source": [
    "# split the string into date and time and grab the date from the resulting array\n",
    "date_string = first_date.split(' ')[0]\n",
    "\n",
    "date_string"
   ]
  },
  {
   "cell_type": "code",
   "execution_count": 14,
   "id": "a548816b",
   "metadata": {},
   "outputs": [
    {
     "data": {
      "text/plain": [
       "datetime.datetime(1999, 11, 1, 0, 0)"
      ]
     },
     "execution_count": 14,
     "metadata": {},
     "output_type": "execute_result"
    }
   ],
   "source": [
    "# convert the date string to a datetime object\n",
    "date = datetime.datetime.strptime(date_string, '%Y-%m-%d')\n",
    "date"
   ]
  },
  {
   "cell_type": "code",
   "execution_count": 15,
   "id": "1dd8bc7b",
   "metadata": {},
   "outputs": [
    {
     "data": {
      "text/plain": [
       "'2021-11-30 00:00:00+00:00'"
      ]
     },
     "execution_count": 15,
     "metadata": {},
     "output_type": "execute_result"
    }
   ],
   "source": [
    "# use the brackets to access different columns in a DataFrame\n",
    "# apply different functions to the columns as below\n",
    "df['Date'].max()"
   ]
  },
  {
   "cell_type": "code",
   "execution_count": 16,
   "id": "13d9e199",
   "metadata": {},
   "outputs": [
    {
     "data": {
      "text/plain": [
       "109089867.53392118"
      ]
     },
     "execution_count": 16,
     "metadata": {},
     "output_type": "execute_result"
    }
   ],
   "source": [
    "df['Volume'].mean()"
   ]
  },
  {
   "cell_type": "code",
   "execution_count": 17,
   "id": "e41b8f60",
   "metadata": {
    "scrolled": true
   },
   "outputs": [
    {
     "data": {
      "text/plain": [
       "<matplotlib.axes._subplots.AxesSubplot at 0x7fcc88152cf8>"
      ]
     },
     "execution_count": 17,
     "metadata": {},
     "output_type": "execute_result"
    },
    {
     "data": {
      "image/png": "[encoded data removed]",
      "text/plain": [
       "<Figure size 432x288 with 1 Axes>"
      ]
     },
     "metadata": {
      "needs_background": "light"
     },
     "output_type": "display_data"
    }
   ],
   "source": [
    "# access the first 100 items in a time series\n",
    "df['Adj_Close'][0:100].plot()"
   ]
  },
  {
   "cell_type": "code",
   "execution_count": 18,
   "id": "67a6e6df",
   "metadata": {},
   "outputs": [],
   "source": [
    "# writing functions in python\n",
    "# my_function - name of the function\n",
    "# x - the input to the function\n",
    "# return - a keyword in python that denotes the output of the function (in this case, the square of x)\n",
    "def my_function(x):\n",
    "    return x * x"
   ]
  },
  {
   "cell_type": "code",
   "execution_count": 19,
   "id": "e0b764fd",
   "metadata": {},
   "outputs": [
    {
     "data": {
      "text/plain": [
       "81"
      ]
     },
     "execution_count": 19,
     "metadata": {},
     "output_type": "execute_result"
    }
   ],
   "source": [
    "my_function(9)"
   ]
  },
  {
   "cell_type": "code",
   "execution_count": 20,
   "id": "f9621dbf",
   "metadata": {},
   "outputs": [],
   "source": [
    "# another function example:\n",
    "def check_grade(score):\n",
    "    if score > 89:\n",
    "        return 'A'\n",
    "    elif score <= 89 and score > 79:\n",
    "        return 'B'\n",
    "    elif score <= 79 and score > 69:\n",
    "        return 'C'\n",
    "    elif score <= 69 and score > 59:\n",
    "        return 'D'\n",
    "    else:\n",
    "        return 'F'"
   ]
  },
  {
   "cell_type": "code",
   "execution_count": 21,
   "id": "348407c9",
   "metadata": {},
   "outputs": [
    {
     "data": {
      "text/plain": [
       "'D'"
      ]
     },
     "execution_count": 21,
     "metadata": {},
     "output_type": "execute_result"
    }
   ],
   "source": [
    "check_grade(69)"
   ]
  },
  {
   "cell_type": "code",
   "execution_count": 22,
   "id": "4ea0e55d",
   "metadata": {},
   "outputs": [],
   "source": [
    "# write a function that takes in a string and converts it to a datetime object\n",
    "def to_datetime(datetime_str):\n",
    "    date_str = datetime_str.split(' ')[0]\n",
    "    return datetime.datetime.strptime(date_str, '%Y-%m-%d')"
   ]
  },
  {
   "cell_type": "code",
   "execution_count": 23,
   "id": "fbcf0984",
   "metadata": {
    "scrolled": true
   },
   "outputs": [],
   "source": [
    "df['Date'] = df['Date'].apply(lambda x: to_datetime(x))"
   ]
  },
  {
   "cell_type": "code",
   "execution_count": 24,
   "id": "192e5c76",
   "metadata": {},
   "outputs": [
    {
     "name": "stdout",
     "output_type": "stream",
     "text": [
      "TYPE: <class 'pandas._libs.tslibs.timestamps.Timestamp'>\n",
      "VALUE: 1999-11-01 00:00:00\n"
     ]
    }
   ],
   "source": [
    "print('TYPE: {}'.format(type(df.iloc[0]['Date'])))\n",
    "print('VALUE: {}'.format(df.iloc[0]['Date']))"
   ]
  },
  {
   "cell_type": "code",
   "execution_count": 25,
   "id": "b5047fbb",
   "metadata": {},
   "outputs": [],
   "source": [
    "# create a new column in the DataFrame that is a simple moving average with a sliding window of 50 (days)\n",
    "df['SMA_50'] = df['Adj_Close'].rolling(window=50).mean()"
   ]
  },
  {
   "cell_type": "code",
   "execution_count": 26,
   "id": "d17f3b68",
   "metadata": {
    "scrolled": true
   },
   "outputs": [
    {
     "data": {
      "text/html": [
       "<div>\n",
       "<style scoped>\n",
       "    .dataframe tbody tr th:only-of-type {\n",
       "        vertical-align: middle;\n",
       "    }\n",
       "\n",
       "    .dataframe tbody tr th {\n",
       "        vertical-align: top;\n",
       "    }\n",
       "\n",
       "    .dataframe thead th {\n",
       "        text-align: right;\n",
       "    }\n",
       "</style>\n",
       "<table border=\"1\" class=\"dataframe\">\n",
       "  <thead>\n",
       "    <tr style=\"text-align: right;\">\n",
       "      <th></th>\n",
       "      <th>Date</th>\n",
       "      <th>Symbol</th>\n",
       "      <th>Open</th>\n",
       "      <th>High</th>\n",
       "      <th>Low</th>\n",
       "      <th>Close</th>\n",
       "      <th>Adj_Close</th>\n",
       "      <th>Volume</th>\n",
       "      <th>Dividend_Amount</th>\n",
       "      <th>Split_Coefficient</th>\n",
       "      <th>SMA_50</th>\n",
       "    </tr>\n",
       "  </thead>\n",
       "  <tbody>\n",
       "    <tr>\n",
       "      <th>0</th>\n",
       "      <td>1999-11-01</td>\n",
       "      <td>SPY</td>\n",
       "      <td>136.500000</td>\n",
       "      <td>137.000000</td>\n",
       "      <td>135.562500</td>\n",
       "      <td>135.562500</td>\n",
       "      <td>90.610544</td>\n",
       "      <td>4006500</td>\n",
       "      <td>0.0</td>\n",
       "      <td>1.0</td>\n",
       "      <td>NaN</td>\n",
       "    </tr>\n",
       "    <tr>\n",
       "      <th>1</th>\n",
       "      <td>1999-11-02</td>\n",
       "      <td>SPY</td>\n",
       "      <td>135.968704</td>\n",
       "      <td>137.250000</td>\n",
       "      <td>134.593704</td>\n",
       "      <td>134.593704</td>\n",
       "      <td>89.962997</td>\n",
       "      <td>6516900</td>\n",
       "      <td>0.0</td>\n",
       "      <td>1.0</td>\n",
       "      <td>NaN</td>\n",
       "    </tr>\n",
       "    <tr>\n",
       "      <th>2</th>\n",
       "      <td>1999-11-03</td>\n",
       "      <td>SPY</td>\n",
       "      <td>136.000000</td>\n",
       "      <td>136.375000</td>\n",
       "      <td>135.125000</td>\n",
       "      <td>135.500000</td>\n",
       "      <td>90.568769</td>\n",
       "      <td>7222300</td>\n",
       "      <td>0.0</td>\n",
       "      <td>1.0</td>\n",
       "      <td>NaN</td>\n",
       "    </tr>\n",
       "    <tr>\n",
       "      <th>3</th>\n",
       "      <td>1999-11-04</td>\n",
       "      <td>SPY</td>\n",
       "      <td>136.750000</td>\n",
       "      <td>137.359299</td>\n",
       "      <td>135.765594</td>\n",
       "      <td>136.531204</td>\n",
       "      <td>91.258030</td>\n",
       "      <td>7907500</td>\n",
       "      <td>0.0</td>\n",
       "      <td>1.0</td>\n",
       "      <td>NaN</td>\n",
       "    </tr>\n",
       "    <tr>\n",
       "      <th>4</th>\n",
       "      <td>1999-11-05</td>\n",
       "      <td>SPY</td>\n",
       "      <td>138.625000</td>\n",
       "      <td>139.109299</td>\n",
       "      <td>136.781204</td>\n",
       "      <td>137.875000</td>\n",
       "      <td>92.156229</td>\n",
       "      <td>7431500</td>\n",
       "      <td>0.0</td>\n",
       "      <td>1.0</td>\n",
       "      <td>NaN</td>\n",
       "    </tr>\n",
       "  </tbody>\n",
       "</table>\n",
       "</div>"
      ],
      "text/plain": [
       "        Date Symbol        Open        High         Low       Close  \\\n",
       "0 1999-11-01    SPY  136.500000  137.000000  135.562500  135.562500   \n",
       "1 1999-11-02    SPY  135.968704  137.250000  134.593704  134.593704   \n",
       "2 1999-11-03    SPY  136.000000  136.375000  135.125000  135.500000   \n",
       "3 1999-11-04    SPY  136.750000  137.359299  135.765594  136.531204   \n",
       "4 1999-11-05    SPY  138.625000  139.109299  136.781204  137.875000   \n",
       "\n",
       "   Adj_Close   Volume  Dividend_Amount  Split_Coefficient  SMA_50  \n",
       "0  90.610544  4006500              0.0                1.0     NaN  \n",
       "1  89.962997  6516900              0.0                1.0     NaN  \n",
       "2  90.568769  7222300              0.0                1.0     NaN  \n",
       "3  91.258030  7907500              0.0                1.0     NaN  \n",
       "4  92.156229  7431500              0.0                1.0     NaN  "
      ]
     },
     "execution_count": 26,
     "metadata": {},
     "output_type": "execute_result"
    }
   ],
   "source": [
    "# SMA_50 won't show until it has enough data points (50) to calculate \n",
    "df.head()"
   ]
  },
  {
   "cell_type": "code",
   "execution_count": 27,
   "id": "249f5b97",
   "metadata": {
    "scrolled": false
   },
   "outputs": [
    {
     "data": {
      "text/html": [
       "<div>\n",
       "<style scoped>\n",
       "    .dataframe tbody tr th:only-of-type {\n",
       "        vertical-align: middle;\n",
       "    }\n",
       "\n",
       "    .dataframe tbody tr th {\n",
       "        vertical-align: top;\n",
       "    }\n",
       "\n",
       "    .dataframe thead th {\n",
       "        text-align: right;\n",
       "    }\n",
       "</style>\n",
       "<table border=\"1\" class=\"dataframe\">\n",
       "  <thead>\n",
       "    <tr style=\"text-align: right;\">\n",
       "      <th></th>\n",
       "      <th>Date</th>\n",
       "      <th>Symbol</th>\n",
       "      <th>Open</th>\n",
       "      <th>High</th>\n",
       "      <th>Low</th>\n",
       "      <th>Close</th>\n",
       "      <th>Adj_Close</th>\n",
       "      <th>Volume</th>\n",
       "      <th>Dividend_Amount</th>\n",
       "      <th>Split_Coefficient</th>\n",
       "      <th>SMA_50</th>\n",
       "    </tr>\n",
       "  </thead>\n",
       "  <tbody>\n",
       "    <tr>\n",
       "      <th>5552</th>\n",
       "      <td>2021-11-23</td>\n",
       "      <td>SPY</td>\n",
       "      <td>467.22</td>\n",
       "      <td>469.095</td>\n",
       "      <td>464.45</td>\n",
       "      <td>468.19</td>\n",
       "      <td>468.19</td>\n",
       "      <td>73206538</td>\n",
       "      <td>0.0</td>\n",
       "      <td>1.0</td>\n",
       "      <td>450.782158</td>\n",
       "    </tr>\n",
       "    <tr>\n",
       "      <th>5553</th>\n",
       "      <td>2021-11-24</td>\n",
       "      <td>SPY</td>\n",
       "      <td>466.06</td>\n",
       "      <td>469.570</td>\n",
       "      <td>465.19</td>\n",
       "      <td>469.44</td>\n",
       "      <td>469.44</td>\n",
       "      <td>60722931</td>\n",
       "      <td>0.0</td>\n",
       "      <td>1.0</td>\n",
       "      <td>451.213358</td>\n",
       "    </tr>\n",
       "    <tr>\n",
       "      <th>5554</th>\n",
       "      <td>2021-11-26</td>\n",
       "      <td>SPY</td>\n",
       "      <td>462.34</td>\n",
       "      <td>463.900</td>\n",
       "      <td>457.77</td>\n",
       "      <td>458.97</td>\n",
       "      <td>458.97</td>\n",
       "      <td>112669636</td>\n",
       "      <td>0.0</td>\n",
       "      <td>1.0</td>\n",
       "      <td>451.478200</td>\n",
       "    </tr>\n",
       "    <tr>\n",
       "      <th>5555</th>\n",
       "      <td>2021-11-29</td>\n",
       "      <td>SPY</td>\n",
       "      <td>464.07</td>\n",
       "      <td>466.560</td>\n",
       "      <td>461.73</td>\n",
       "      <td>464.60</td>\n",
       "      <td>464.60</td>\n",
       "      <td>86268818</td>\n",
       "      <td>0.0</td>\n",
       "      <td>1.0</td>\n",
       "      <td>451.942200</td>\n",
       "    </tr>\n",
       "    <tr>\n",
       "      <th>5556</th>\n",
       "      <td>2021-11-30</td>\n",
       "      <td>SPY</td>\n",
       "      <td>462.00</td>\n",
       "      <td>464.030</td>\n",
       "      <td>455.30</td>\n",
       "      <td>455.56</td>\n",
       "      <td>455.56</td>\n",
       "      <td>148559598</td>\n",
       "      <td>0.0</td>\n",
       "      <td>1.0</td>\n",
       "      <td>452.372600</td>\n",
       "    </tr>\n",
       "  </tbody>\n",
       "</table>\n",
       "</div>"
      ],
      "text/plain": [
       "           Date Symbol    Open     High     Low   Close  Adj_Close     Volume  \\\n",
       "5552 2021-11-23    SPY  467.22  469.095  464.45  468.19     468.19   73206538   \n",
       "5553 2021-11-24    SPY  466.06  469.570  465.19  469.44     469.44   60722931   \n",
       "5554 2021-11-26    SPY  462.34  463.900  457.77  458.97     458.97  112669636   \n",
       "5555 2021-11-29    SPY  464.07  466.560  461.73  464.60     464.60   86268818   \n",
       "5556 2021-11-30    SPY  462.00  464.030  455.30  455.56     455.56  148559598   \n",
       "\n",
       "      Dividend_Amount  Split_Coefficient      SMA_50  \n",
       "5552              0.0                1.0  450.782158  \n",
       "5553              0.0                1.0  451.213358  \n",
       "5554              0.0                1.0  451.478200  \n",
       "5555              0.0                1.0  451.942200  \n",
       "5556              0.0                1.0  452.372600  "
      ]
     },
     "execution_count": 27,
     "metadata": {},
     "output_type": "execute_result"
    }
   ],
   "source": [
    "df.tail()"
   ]
  },
  {
   "cell_type": "code",
   "execution_count": 28,
   "id": "352ee039",
   "metadata": {},
   "outputs": [
    {
     "data": {
      "text/plain": [
       "<matplotlib.axes._subplots.AxesSubplot at 0x7fcc900aeb70>"
      ]
     },
     "execution_count": 28,
     "metadata": {},
     "output_type": "execute_result"
    },
    {
     "data": {
      "image/png": "[encoded data removed]",
      "text/plain": [
       "<Figure size 432x288 with 1 Axes>"
      ]
     },
     "metadata": {
      "needs_background": "light"
     },
     "output_type": "display_data"
    }
   ],
   "source": [
    "df[['Adj_Close', 'SMA_50']][len(df)-2000:].plot()"
   ]
  },
  {
   "cell_type": "code",
   "execution_count": 29,
   "id": "9f4d2ef2",
   "metadata": {},
   "outputs": [],
   "source": [
    "df['SMA_100'] = df['Adj_Close'].rolling(window=100).mean()"
   ]
  },
  {
   "cell_type": "code",
   "execution_count": 30,
   "id": "f6ce5701",
   "metadata": {
    "scrolled": false
   },
   "outputs": [
    {
     "data": {
      "image/png": "[encoded data removed]",
      "text/plain": [
       "<Figure size 1440x720 with 2 Axes>"
      ]
     },
     "metadata": {
      "needs_background": "light"
     },
     "output_type": "display_data"
    }
   ],
   "source": [
    "# fancy plot\n",
    "fig, (ax1, ax2) = plt.subplots(nrows=2, sharex=True, figsize=(20, 10), gridspec_kw = {'height_ratios':[3, 1]})\n",
    "df[['Adj_Close', 'SMA_50', 'SMA_100']].plot(ax=ax1)\n",
    "ax1.set_ylabel('Price')\n",
    "\n",
    "df['Volume'].plot(ax=ax2, color='purple')\n",
    "ax2.set_ylabel('Volume')\n",
    "\n",
    "fig.tight_layout()"
   ]
  },
  {
   "cell_type": "code",
   "execution_count": 31,
   "id": "9986f9bf",
   "metadata": {
    "scrolled": true
   },
   "outputs": [],
   "source": [
    "# simple trading strategy:\n",
    "    # LONG: SMA_50 above SMA_100\n",
    "    # SHORT: SMA_50 below SMA_100\n",
    "df['Signal'] = np.where(df['SMA_50'] > df['SMA_100'], 1, -1)"
   ]
  },
  {
   "cell_type": "code",
   "execution_count": 32,
   "id": "f668106f",
   "metadata": {
    "scrolled": true
   },
   "outputs": [
    {
     "data": {
      "text/html": [
       "<div>\n",
       "<style scoped>\n",
       "    .dataframe tbody tr th:only-of-type {\n",
       "        vertical-align: middle;\n",
       "    }\n",
       "\n",
       "    .dataframe tbody tr th {\n",
       "        vertical-align: top;\n",
       "    }\n",
       "\n",
       "    .dataframe thead th {\n",
       "        text-align: right;\n",
       "    }\n",
       "</style>\n",
       "<table border=\"1\" class=\"dataframe\">\n",
       "  <thead>\n",
       "    <tr style=\"text-align: right;\">\n",
       "      <th></th>\n",
       "      <th>Date</th>\n",
       "      <th>Symbol</th>\n",
       "      <th>Open</th>\n",
       "      <th>High</th>\n",
       "      <th>Low</th>\n",
       "      <th>Close</th>\n",
       "      <th>Adj_Close</th>\n",
       "      <th>Volume</th>\n",
       "      <th>Dividend_Amount</th>\n",
       "      <th>Split_Coefficient</th>\n",
       "      <th>SMA_50</th>\n",
       "      <th>SMA_100</th>\n",
       "      <th>Signal</th>\n",
       "    </tr>\n",
       "  </thead>\n",
       "  <tbody>\n",
       "    <tr>\n",
       "      <th>99</th>\n",
       "      <td>2000-03-23</td>\n",
       "      <td>SPY</td>\n",
       "      <td>149.156204</td>\n",
       "      <td>153.468704</td>\n",
       "      <td>149.156204</td>\n",
       "      <td>152.656204</td>\n",
       "      <td>102.542716</td>\n",
       "      <td>11654500</td>\n",
       "      <td>0.0</td>\n",
       "      <td>1.0</td>\n",
       "      <td>94.585796</td>\n",
       "      <td>94.639731</td>\n",
       "      <td>-1</td>\n",
       "    </tr>\n",
       "    <tr>\n",
       "      <th>100</th>\n",
       "      <td>2000-03-24</td>\n",
       "      <td>SPY</td>\n",
       "      <td>152.875000</td>\n",
       "      <td>155.750000</td>\n",
       "      <td>151.718704</td>\n",
       "      <td>153.562500</td>\n",
       "      <td>103.151496</td>\n",
       "      <td>11462900</td>\n",
       "      <td>0.0</td>\n",
       "      <td>1.0</td>\n",
       "      <td>94.731696</td>\n",
       "      <td>94.765141</td>\n",
       "      <td>-1</td>\n",
       "    </tr>\n",
       "    <tr>\n",
       "      <th>101</th>\n",
       "      <td>2000-03-27</td>\n",
       "      <td>SPY</td>\n",
       "      <td>153.375000</td>\n",
       "      <td>153.781204</td>\n",
       "      <td>151.812500</td>\n",
       "      <td>151.937500</td>\n",
       "      <td>102.059946</td>\n",
       "      <td>8798600</td>\n",
       "      <td>0.0</td>\n",
       "      <td>1.0</td>\n",
       "      <td>94.829801</td>\n",
       "      <td>94.886110</td>\n",
       "      <td>-1</td>\n",
       "    </tr>\n",
       "    <tr>\n",
       "      <th>102</th>\n",
       "      <td>2000-03-28</td>\n",
       "      <td>SPY</td>\n",
       "      <td>151.250000</td>\n",
       "      <td>152.984299</td>\n",
       "      <td>150.593704</td>\n",
       "      <td>151.062500</td>\n",
       "      <td>101.472188</td>\n",
       "      <td>6334400</td>\n",
       "      <td>0.0</td>\n",
       "      <td>1.0</td>\n",
       "      <td>94.889769</td>\n",
       "      <td>94.995144</td>\n",
       "      <td>-1</td>\n",
       "    </tr>\n",
       "    <tr>\n",
       "      <th>103</th>\n",
       "      <td>2000-03-29</td>\n",
       "      <td>SPY</td>\n",
       "      <td>151.562500</td>\n",
       "      <td>152.484299</td>\n",
       "      <td>149.656204</td>\n",
       "      <td>151.218704</td>\n",
       "      <td>101.577114</td>\n",
       "      <td>6747500</td>\n",
       "      <td>0.0</td>\n",
       "      <td>1.0</td>\n",
       "      <td>94.967330</td>\n",
       "      <td>95.098335</td>\n",
       "      <td>-1</td>\n",
       "    </tr>\n",
       "  </tbody>\n",
       "</table>\n",
       "</div>"
      ],
      "text/plain": [
       "          Date Symbol        Open        High         Low       Close  \\\n",
       "99  2000-03-23    SPY  149.156204  153.468704  149.156204  152.656204   \n",
       "100 2000-03-24    SPY  152.875000  155.750000  151.718704  153.562500   \n",
       "101 2000-03-27    SPY  153.375000  153.781204  151.812500  151.937500   \n",
       "102 2000-03-28    SPY  151.250000  152.984299  150.593704  151.062500   \n",
       "103 2000-03-29    SPY  151.562500  152.484299  149.656204  151.218704   \n",
       "\n",
       "      Adj_Close    Volume  Dividend_Amount  Split_Coefficient     SMA_50  \\\n",
       "99   102.542716  11654500              0.0                1.0  94.585796   \n",
       "100  103.151496  11462900              0.0                1.0  94.731696   \n",
       "101  102.059946   8798600              0.0                1.0  94.829801   \n",
       "102  101.472188   6334400              0.0                1.0  94.889769   \n",
       "103  101.577114   6747500              0.0                1.0  94.967330   \n",
       "\n",
       "       SMA_100  Signal  \n",
       "99   94.639731      -1  \n",
       "100  94.765141      -1  \n",
       "101  94.886110      -1  \n",
       "102  94.995144      -1  \n",
       "103  95.098335      -1  "
      ]
     },
     "execution_count": 32,
     "metadata": {},
     "output_type": "execute_result"
    }
   ],
   "source": [
    "df.dropna(inplace=True)\n",
    "df.head()"
   ]
  },
  {
   "cell_type": "code",
   "execution_count": 33,
   "id": "949bc72c",
   "metadata": {
    "scrolled": true
   },
   "outputs": [],
   "source": [
    "# these are just used for graphing purposes\n",
    "df['Crossover'] = df['Signal'].diff()\n",
    "df['BuySignal'] = np.where(df['Crossover'] == 2, df['Adj_Close'], np.nan)\n",
    "df['SellSignal'] = np.where(df['Crossover'] == -2, df['Adj_Close'], np.nan)"
   ]
  },
  {
   "cell_type": "code",
   "execution_count": 38,
   "id": "a80340d9",
   "metadata": {
    "scrolled": true
   },
   "outputs": [
    {
     "data": {
      "image/png": "[encoded data removed]",
      "text/plain": [
       "<Figure size 720x288 with 1 Axes>"
      ]
     },
     "metadata": {
      "needs_background": "light"
     },
     "output_type": "display_data"
    }
   ],
   "source": [
    "snapshot = df.iloc[len(df) - 3000:]\n",
    "\n",
    "plt.figure(figsize=(10,4)) # width = 12.2in, height = 4.5\n",
    "plt.scatter(snapshot.index, snapshot['BuySignal'], color = 'green', label='Buy Signal', marker = '^', alpha = 1)\n",
    "plt.scatter(snapshot.index, snapshot['SellSignal'], color = 'red', label='Sell Signal', marker = 'v', alpha = 1)\n",
    "plt.plot( snapshot['Adj_Close'],  label='Close Price', alpha = 0.35) # plt.plot( X-Axis , Y-Axis, line_width, alpha_for_blending,  label)\n",
    "plt.title('SPY Buy / Sell Signals')\n",
    "plt.xlabel('Date',fontsize=18)\n",
    "plt.ylabel('Close Price ($)',fontsize=18)\n",
    "plt.legend(loc='upper left')\n",
    "plt.show()"
   ]
  },
  {
   "cell_type": "code",
   "execution_count": 39,
   "id": "4dc0394a",
   "metadata": {},
   "outputs": [],
   "source": [
    "# calculate the log returns\n",
    "# there are many ways to do this\n",
    "log_returns = df['Adj_Close'].apply(np.log).diff(1)"
   ]
  },
  {
   "cell_type": "code",
   "execution_count": 40,
   "id": "e5348939",
   "metadata": {},
   "outputs": [],
   "source": [
    "# vectorized backtest - multiply the returns by the positions (+1, -1) to get the returns of the strategy\n",
    "# shift by 1 to avoid look-ahead bias (can't buy closing price on day that moving average crosses over)\n",
    "df['Strategy'] = df['Signal'].shift(1) * log_returns"
   ]
  },
  {
   "cell_type": "code",
   "execution_count": 41,
   "id": "e33cb01d",
   "metadata": {},
   "outputs": [],
   "source": [
    "cum_returns = (1 + df['Strategy']).cumprod() - 1\n",
    "# another way to calculate cumulative returns in python\n",
    "# np.exp(np.log(1 + returns).cumsum()) - 1"
   ]
  },
  {
   "cell_type": "code",
   "execution_count": 55,
   "id": "14ef5038",
   "metadata": {},
   "outputs": [
    {
     "data": {
      "text/plain": [
       "<matplotlib.axes._subplots.AxesSubplot at 0x7fb0d93c77f0>"
      ]
     },
     "execution_count": 55,
     "metadata": {},
     "output_type": "execute_result"
    },
    {
     "data": {
      "image/png": "[encoded data removed]",
      "text/plain": [
       "<Figure size 432x288 with 1 Axes>"
      ]
     },
     "metadata": {
      "needs_background": "light"
     },
     "output_type": "display_data"
    }
   ],
   "source": [
    "cum_returns.plot()"
   ]
  },
  {
   "cell_type": "code",
   "execution_count": 49,
   "id": "ff976ec1",
   "metadata": {},
   "outputs": [
    {
     "name": "stdout",
     "output_type": "stream",
     "text": [
      "Cumulative Return: 78.48%\n"
     ]
    }
   ],
   "source": [
    "print('Cumulative Return: {:.2f}%'.format(cum_returns.iloc[-1]*100))"
   ]
  }
 ],
 "metadata": {
  "kernelspec": {
   "display_name": "Python 3",
   "language": "python",
   "name": "python3"
  },
  "language_info": {
   "codemirror_mode": {
    "name": "ipython",
    "version": 3
   },
   "file_extension": ".py",
   "mimetype": "text/x-python",
   "name": "python",
   "nbconvert_exporter": "python",
   "pygments_lexer": "ipython3",
   "version": "3.5.6"
  }
 },
 "nbformat": 4,
 "nbformat_minor": 5
}
